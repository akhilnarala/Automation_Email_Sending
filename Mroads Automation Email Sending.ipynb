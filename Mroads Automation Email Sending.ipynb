{
 "cells": [
  {
   "cell_type": "code",
   "execution_count": 13,
   "metadata": {},
   "outputs": [
    {
     "data": {
      "text/plain": [
       "(221, b'2.0.0 closing connection d13sm2726291pfh.76 - gsmtp')"
      ]
     },
     "execution_count": 13,
     "metadata": {},
     "output_type": "execute_result"
    }
   ],
   "source": [
    "#Google will block your sign-in attempt but You can change your settings at \n",
    "#https://www.google.com/settings/security/lesssecureapps\n",
    "#so that your account is no longer protected by modern security standards.\n",
    "\n",
    "import smtplib\n",
    "fromaddr = 'From'\n",
    "toaddrs  = 'To'\n",
    "msg = \"\\r\\n\".join([\n",
    "  \"From: user_me@gmail.com\",\n",
    "  \"To: user_you@gmail.com\",\n",
    "  \"Subject: Automation Email Sending\",\n",
    "  \"\",\n",
    "  \"Write your msg\"\n",
    "  ])\n",
    "username = 'From'\n",
    "password = 'pwd'\n",
    "server = smtplib.SMTP('smtp.gmail.com:587')\n",
    "server.ehlo()\n",
    "server.starttls()\n",
    "server.login(username,password)\n",
    "server.sendmail(fromaddr, toaddrs, msg)\n",
    "server.quit()"
   ]
  },
  {
   "cell_type": "code",
   "execution_count": null,
   "metadata": {
    "collapsed": true
   },
   "outputs": [],
   "source": []
  }
 ],
 "metadata": {
  "kernelspec": {
   "display_name": "Python 3",
   "language": "python",
   "name": "python3"
  },
  "language_info": {
   "codemirror_mode": {
    "name": "ipython",
    "version": 3
   },
   "file_extension": ".py",
   "mimetype": "text/x-python",
   "name": "python",
   "nbconvert_exporter": "python",
   "pygments_lexer": "ipython3",
   "version": "3.6.1"
  }
 },
 "nbformat": 4,
 "nbformat_minor": 2
}
